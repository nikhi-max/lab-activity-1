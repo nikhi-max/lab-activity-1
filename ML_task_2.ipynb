{
  "nbformat": 4,
  "nbformat_minor": 0,
  "metadata": {
    "colab": {
      "provenance": [],
      "authorship_tag": "ABX9TyN5SvytNzOc3qAsxlGJ0j0t",
      "include_colab_link": true
    },
    "kernelspec": {
      "name": "python3",
      "display_name": "Python 3"
    },
    "language_info": {
      "name": "python"
    }
  },
  "cells": [
    {
      "cell_type": "markdown",
      "metadata": {
        "id": "view-in-github",
        "colab_type": "text"
      },
      "source": [
        "<a href=\"https://colab.research.google.com/github/nikhi-max/lab-activity-1/blob/main/ML_task_2.ipynb\" target=\"_parent\"><img src=\"https://colab.research.google.com/assets/colab-badge.svg\" alt=\"Open In Colab\"/></a>"
      ]
    },
    {
      "cell_type": "code",
      "execution_count": null,
      "metadata": {
        "colab": {
          "base_uri": "https://localhost:8080/"
        },
        "id": "EAI1Al4hTQfz",
        "outputId": "9db4a9dd-d60c-45a2-b7b8-4f3f0b31ad84"
      },
      "outputs": [
        {
          "output_type": "stream",
          "name": "stdout",
          "text": [
            "The predicated price for 24 karat gold per 10 gram gold is: 3677.8499999999767\n"
          ]
        }
      ],
      "source": [
        "import numpy as np\n",
        "x = np.array([2015,2016,2017,2018,2019])\n",
        "y = np.array([2500,3050,2966.75,3143.8,3522])\n",
        "\n",
        "N = len(x)\n",
        "x_mean = np.mean(x)\n",
        "y_mean = np.mean(y)\n",
        "x_var = np.var(x,ddof=1)\n",
        "y_var = np.var(y,ddof=1)\n",
        "cov = np.cov(x,y, ddof=1)[0][1]\n",
        "b1 = cov /x_var\n",
        "b0 = y_mean - b1 * x_mean\n",
        "def predict(x):\n",
        "  return b0 + b1 * x\n",
        "\n",
        "print(\"The predicated price for 24 karat gold per 10 gram gold is:\", predict(2020))"
      ]
    }
  ]
}