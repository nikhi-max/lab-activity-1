{
  "nbformat": 4,
  "nbformat_minor": 0,
  "metadata": {
    "colab": {
      "provenance": [],
      "authorship_tag": "ABX9TyNtSI7lJXfoflOoTGka7w1B",
      "include_colab_link": true
    },
    "kernelspec": {
      "name": "python3",
      "display_name": "Python 3"
    },
    "language_info": {
      "name": "python"
    }
  },
  "cells": [
    {
      "cell_type": "markdown",
      "metadata": {
        "id": "view-in-github",
        "colab_type": "text"
      },
      "source": [
        "<a href=\"https://colab.research.google.com/github/nikhi-max/lab-activity-1/blob/main/ML_1_Lab.ipynb\" target=\"_parent\"><img src=\"https://colab.research.google.com/assets/colab-badge.svg\" alt=\"Open In Colab\"/></a>"
      ]
    },
    {
      "cell_type": "code",
      "execution_count": null,
      "metadata": {
        "colab": {
          "base_uri": "https://localhost:8080/"
        },
        "id": "tN8YImteHP3n",
        "outputId": "3bffdcd9-ce20-45a2-aa6e-fb84f6cad508"
      },
      "outputs": [
        {
          "output_type": "stream",
          "name": "stdout",
          "text": [
            "Array is of type:  <class 'numpy.ndarray'>\n",
            "No.of dimensions:  2\n",
            "Shape of array:  (2, 3)\n",
            "Size of array:  6\n",
            "Array stores elements of type:  int64\n"
          ]
        }
      ],
      "source": [
        "import numpy as np\n",
        "\n",
        "arr = np.array([[3,4,5],\n",
        "               [6,7,8]])\n",
        "print(\"Array is of type: \", type(arr))\n",
        "\n",
        "print(\"No.of dimensions: \",arr.ndim)\n",
        "\n",
        "print(\"Shape of array: \",arr.shape)\n",
        "\n",
        "print(\"Size of array: \",arr.size)\n",
        "\n",
        "print(\"Array stores elements of type: \",arr.dtype)\n"
      ]
    },
    {
      "cell_type": "code",
      "source": [
        "import numpy as np\n",
        "\n",
        "a = np.array([[1,2,4],[5,8,7]], dtype = 'float')\n",
        "print (\"Array created using passed list:\\n\",a)\n",
        "b = np.array((1,3,2))\n",
        "print(\"\\n Array created using passed turple:\\n\",b)\n",
        "c = np.zeros((3,4))\n",
        "print(\"\\n An array intialized with all zeroes:\\n\",c)\n",
        "d = np.full((3,3),6, dtype = 'complex')\n",
        "print(\"\\n An array intitialized with all 6s.\"\n",
        "             \"Array type is complex:\\n\",d)\n",
        "e = np.random.random((2, 2))\n",
        "print(\"\\n A random array:\\n\",e)\n",
        "f = np.arange(0,30,5)\n",
        "print(\"\\n A aequential array with 10 values between \"\n",
        "                                           \"0 and 5:\\n\",f)\n",
        "g = np.linspace(0,5,10)\n",
        "arr = np.array([[1,2,3,4],\n",
        "                [5,2,4,2],\n",
        "                [1,2,0,1]])\n",
        "newarr = arr.reshape(2,2,3)\n",
        "\n",
        "print(\"\\n Original array:\\n\", arr)\n",
        "print(\"Reshaped array:\\n\",newarr)\n",
        "arr = np.array([[1,2,3],[4,5,6]])\n",
        "flarr = arr.flatten()\n",
        "\n",
        "print(\"\\n Original array:\\n\",arr)\n",
        "print(\"Fattened array:\\n\",flarr)\n",
        "\n",
        "\n"
      ],
      "metadata": {
        "colab": {
          "base_uri": "https://localhost:8080/"
        },
        "id": "-ls21-zjLTBn",
        "outputId": "280bab2e-3653-427d-96f2-d966ec13e734"
      },
      "execution_count": null,
      "outputs": [
        {
          "output_type": "stream",
          "name": "stdout",
          "text": [
            "Array created using passed list:\n",
            " [[1. 2. 4.]\n",
            " [5. 8. 7.]]\n",
            "\n",
            " Array created using passed turple:\n",
            " [1 3 2]\n",
            "\n",
            " An array intialized with all zeroes:\n",
            " [[0. 0. 0. 0.]\n",
            " [0. 0. 0. 0.]\n",
            " [0. 0. 0. 0.]]\n",
            "\n",
            " An array intitialized with all 6s.Array type is complex:\n",
            " [[6.+0.j 6.+0.j 6.+0.j]\n",
            " [6.+0.j 6.+0.j 6.+0.j]\n",
            " [6.+0.j 6.+0.j 6.+0.j]]\n",
            "\n",
            " A random array:\n",
            " [[0.55854454 0.59175427]\n",
            " [0.84165225 0.83813705]]\n",
            "\n",
            " A aequential array with 10 values between 0 and 5:\n",
            " [ 0  5 10 15 20 25]\n",
            "\n",
            " Original array:\n",
            " [[1 2 3 4]\n",
            " [5 2 4 2]\n",
            " [1 2 0 1]]\n",
            "Reshaped array:\n",
            " [[[1 2 3]\n",
            "  [4 5 2]]\n",
            "\n",
            " [[4 2 1]\n",
            "  [2 0 1]]]\n",
            "\n",
            " Original array:\n",
            " [[1 2 3]\n",
            " [4 5 6]]\n",
            "Fattened array:\n",
            " [1 2 3 4 5 6]\n"
          ]
        }
      ]
    },
    {
      "cell_type": "code",
      "source": [
        "import pandas as pd\n",
        "import numpy as np\n",
        "scr = pd.Series()\n",
        "print(scr)\n",
        "data = np.array(['N','I','K','H','I','T','A'])\n",
        "scr = pd.Series(data)\n",
        "print(scr)\n"
      ],
      "metadata": {
        "colab": {
          "base_uri": "https://localhost:8080/"
        },
        "id": "iq87HUMJQnXl",
        "outputId": "7e39d31b-0db7-4cfd-c30a-610302c20015"
      },
      "execution_count": null,
      "outputs": [
        {
          "output_type": "stream",
          "name": "stdout",
          "text": [
            "Series([], dtype: object)\n",
            "0    N\n",
            "1    I\n",
            "2    K\n",
            "3    H\n",
            "4    I\n",
            "5    T\n",
            "6    A\n",
            "dtype: object\n"
          ]
        }
      ]
    },
    {
      "cell_type": "code",
      "source": [
        "import pandas as pd\n",
        "\n",
        "df = pd.DataFrame()\n",
        "print(df)\n",
        "\n",
        "lst = ['Machine learning','is','combination','of','data','and','algorithms']\n",
        "df = pd.DataFrame(lst)\n",
        "print(df)"
      ],
      "metadata": {
        "colab": {
          "base_uri": "https://localhost:8080/"
        },
        "id": "K4vEGuCoS6V2",
        "outputId": "d47a7e0e-afc5-4007-cf1e-46bebe8af5cf"
      },
      "execution_count": null,
      "outputs": [
        {
          "output_type": "stream",
          "name": "stdout",
          "text": [
            "Empty DataFrame\n",
            "Columns: []\n",
            "Index: []\n",
            "                  0\n",
            "0  Machine learning\n",
            "1                is\n",
            "2       combination\n",
            "3                of\n",
            "4              data\n",
            "5               and\n",
            "6        algorithms\n"
          ]
        }
      ]
    },
    {
      "cell_type": "code",
      "source": [
        "from matplotlib import pyplot as plt\n",
        "\n",
        "x = [5,2,8,4,7]\n",
        "y= [10,5,9,6,2]\n",
        "plt.plot(x,y)\n",
        "plt.show()"
      ],
      "metadata": {
        "colab": {
          "base_uri": "https://localhost:8080/",
          "height": 430
        },
        "id": "dkWosqqZUe2X",
        "outputId": "6ccf6eb8-b42a-4368-b4b7-ee98f190972b"
      },
      "execution_count": null,
      "outputs": [
        {
          "output_type": "display_data",
          "data": {
            "text/plain": [
              "<Figure size 640x480 with 1 Axes>"
            ],
            "image/png": "[encoded data removed]"
          },
          "metadata": {}
        }
      ]
    },
    {
      "cell_type": "code",
      "source": [
        "from matplotlib import pyplot as pyplot\n",
        "x = [5,2,8,4,7]\n",
        "y=[10,5,8,6,2]\n",
        "plt.bar(x,y)\n",
        "plt.show()"
      ],
      "metadata": {
        "colab": {
          "base_uri": "https://localhost:8080/",
          "height": 430
        },
        "id": "IWKdmYneVflm",
        "outputId": "688f62e6-e329-471f-9822-ad524c510570"
      },
      "execution_count": null,
      "outputs": [
        {
          "output_type": "display_data",
          "data": {
            "text/plain": [
              "<Figure size 640x480 with 1 Axes>"
            ],
            "image/png": "[encoded data removed]"
          },
          "metadata": {}
        }
      ]
    },
    {
      "cell_type": "code",
      "source": [
        "from matplotlib import pyplot as plt\n",
        "x=[5,2,8,4,7]\n",
        "y=[10,5,8,6,2]\n",
        "plt.scatter(x,y)\n",
        "plt.show()\n"
      ],
      "metadata": {
        "colab": {
          "base_uri": "https://localhost:8080/",
          "height": 430
        },
        "id": "roVAPtrfWen1",
        "outputId": "6ee8e2d2-4228-4ae1-f228-0d0d1e8b7e9c"
      },
      "execution_count": null,
      "outputs": [
        {
          "output_type": "display_data",
          "data": {
            "text/plain": [
              "<Figure size 640x480 with 1 Axes>"
            ],
            "image/png": "[encoded data removed]"
          },
          "metadata": {}
        }
      ]
    },
    {
      "cell_type": "code",
      "source": [
        "import tensorflow as tf\n",
        "node1 = tf.constant(3, dtype=tf.int32)\n",
        "node2 = tf.constant(5, dtype=tf.int32)\n",
        "node3 = tf.add(node1, node2)\n",
        "\n",
        "print(\"sum of node1 and node2 is:\",node3.numpy())\n",
        "sess.close()\n"
      ],
      "metadata": {
        "colab": {
          "base_uri": "https://localhost:8080/"
        },
        "id": "UjL6_Uj3W3ol",
        "outputId": "522756fc-62e9-4ed2-e1f1-341c38522634"
      },
      "execution_count": null,
      "outputs": [
        {
          "output_type": "stream",
          "name": "stdout",
          "text": [
            "sum of node1 and node2 is: 8\n"
          ]
        }
      ]
    }
  ]
}